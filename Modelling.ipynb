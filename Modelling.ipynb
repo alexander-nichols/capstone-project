{
 "cells": [
  {
   "cell_type": "code",
   "execution_count": null,
   "id": "391681be-106f-49d2-92f5-ad6c0f1cc4a3",
   "metadata": {},
   "outputs": [],
   "source": [
    "import pandas as pd\n",
    "import matplotlib.pyplot as plt\n",
    "import numpy as np \n",
    "import seaborn as sns\n",
    "import time\n",
    "\n",
    "from sklearn.inspection import PartialDependenceDisplay, permutation_importance\n",
    "from sklearn.metrics import max_error, mean_absolute_error, mean_absolute_percentage_error, mean_squared_error, r2_score\n",
    "from sklearn.model_selection import KFold, ParameterGrid, train_test_split\n",
    "from sklearn.preprocessing import StandardScaler\n",
    "\n",
    "# Models\n",
    "from sklearn.decomposition import PCA\n",
    "from sklearn.ensemble import GradientBoostingRegressor, RandomForestRegressor  \n",
    "from sklearn.linear_model import LinearRegression\n",
    "from sklearn.neighbors import KNeighborsRegressor\n",
    "from sklearn.tree import DecisionTreeRegressor\n",
    "from xgboost import XGBRegressor"
   ]
  },
  {
   "cell_type": "markdown",
   "id": "ef9158d3-a35d-4021-a913-716251c112f4",
   "metadata": {},
   "source": [
    "## Data loading"
   ]
  },
  {
   "cell_type": "code",
   "execution_count": null,
   "id": "c46d49b5-44b3-4ef8-a2aa-f1cad1996d66",
   "metadata": {},
   "outputs": [],
   "source": [
    "df = pd.read_csv('data\\Life-Expectancy-Data-Updated.csv')\n",
    "\n",
    "# Simple renaming to improve readability\n",
    "df=df.rename(columns={'Thinness_ten_nineteen_years':'Thinness (10-19 years)',\\\n",
    "                      'Thinness_five_nine_years':'Thinness (5-9 years)', \\\n",
    "                      'Economy_status_Developed' : 'Developed', \\\n",
    "                      'Economy_status_Developing' : 'Developing'                  \n",
    "                     })\n",
    "df_reduced = df.drop(['Infant_deaths', 'Under_five_deaths', 'Diphtheria', 'Thinness (5-9 years)', 'Developing'], axis=1)\n",
    "df_reduced = df_reduced\n",
    "df_reduced.head()"
   ]
  },
  {
   "cell_type": "markdown",
   "id": "f2942af7-4e93-4005-8641-3913a4d5f348",
   "metadata": {},
   "source": [
    "## Model selection\n",
    "\n",
    "To use a reduced set of features set the following to True. To use all numerical features, except 'Year' set to false"
   ]
  },
  {
   "cell_type": "code",
   "execution_count": null,
   "id": "fb382c6c-d8e9-4614-bba6-843ed62f6673",
   "metadata": {},
   "outputs": [],
   "source": [
    "# Returns (X, y)\n",
    "def split(df):\n",
    "    reduced_features = False\n",
    "    if(reduced_features):\n",
    "        X = df[['Adult_mortality', 'Schooling', 'GDP_per_capita', 'Thinness (10-19 years)', 'Polio']]\n",
    "    else:\n",
    "        X = df.drop(columns=['Country', 'Region', 'Year', 'Life_expectancy'])\n",
    "        \n",
    "    y = df['Life_expectancy']\n",
    "    return X, y"
   ]
  },
  {
   "cell_type": "markdown",
   "id": "dcaa019d-6873-4c64-9297-1ba8ac075870",
   "metadata": {},
   "source": [
    "### PCA Analysis"
   ]
  },
  {
   "cell_type": "code",
   "execution_count": null,
   "id": "74e88758-3def-433d-8090-f1e69a41dd23",
   "metadata": {},
   "outputs": [],
   "source": [
    "def pca_analysis(df):\n",
    "    X, _ = split(df)\n",
    "    X_scaled = StandardScaler().fit_transform(X)\n",
    "    pca = PCA()\n",
    "    _ = pca.fit_transform(X_scaled)\n",
    "    \n",
    "    plt.plot(np.cumsum(pca.explained_variance_ratio_))\n",
    "    plt.xlabel('Components')\n",
    "    plt.ylabel('Fraction of Total Variance')\n",
    "\n",
    "    pca_components = PCA().fit_transform(X_scaled)\n",
    "    plt.figure(figsize=(8,6))\n",
    "    sns.scatterplot(x=pca_components[:, 0], y=pca_components[:, 1], hue=df['Life_expectancy'], palette='viridis', alpha=0.75);\n",
    "    plt.xlabel('Component 1')\n",
    "    plt.ylabel('Component 2')\n",
    "\n",
    "    plt.show()\n",
    "\n",
    "pca_analysis(df_reduced)"
   ]
  },
  {
   "cell_type": "code",
   "execution_count": null,
   "id": "dad6f1b2-4986-4ad8-8b46-7b7d374abf21",
   "metadata": {},
   "outputs": [],
   "source": [
    "df_train, df_test = train_test_split(df_reduced, test_size=0.2, random_state=42)"
   ]
  },
  {
   "cell_type": "markdown",
   "id": "daa10b2e-fc04-4f49-9edc-b22d69c9b032",
   "metadata": {},
   "source": [
    "### Model comparison"
   ]
  },
  {
   "cell_type": "code",
   "execution_count": null,
   "id": "36230d97-8fab-4219-b35a-ac17718d04a1",
   "metadata": {},
   "outputs": [],
   "source": [
    "def compare_models(models):\n",
    "    X_train, y_train = split(df_train)\n",
    "    X_test, y_test = split(df_test)\n",
    "    results = []\n",
    "    for (name, model) in models:\n",
    "        # Scale inputs - irrelevant for decision tree based models but important for KNN\n",
    "        scaler = StandardScaler().fit(X_train)\n",
    "        X_train_scaled = pd.DataFrame(scaler.transform(X_train), columns = X_train.columns)\n",
    "        X_test_scaled = pd.DataFrame(scaler.transform(X_test), columns = X_test.columns) \n",
    "        \n",
    "        t0 = time.time()\n",
    "        count = 10\n",
    "        for _ in range(count):\n",
    "            model.fit(X_train_scaled, y_train)\n",
    "            y_predict = model.predict(X_test_scaled)\n",
    "        t1 = time.time()\n",
    "        dict = {\n",
    "                    'Name': name,\n",
    "                    'Mean squared error': mean_squared_error(y_predict, y_test),\n",
    "                    'Mean absolute error': mean_absolute_error(y_predict, y_test),\n",
    "                    'Mean Absolute Percentage Error': mean_absolute_percentage_error(y_predict, y_test),\n",
    "                    'Maximum Error': max_error(y_predict, y_test),\n",
    "                    'r2 Score': r2_score(y_predict, y_test), \n",
    "                    'Time': (t1-t0)/count\n",
    "                }\n",
    "    \n",
    "        results.append(dict)\n",
    "    return pd.DataFrame(results).set_index('Name').sort_values('Mean squared error')\n",
    "\n",
    "compare_models(\n",
    "        { \n",
    "            ('Linear', LinearRegression()), \n",
    "            ('Decision Tree', DecisionTreeRegressor(random_state=42)),\n",
    "            ('Random Forest', RandomForestRegressor(random_state=42)),\n",
    "            ('Gradient Boosting', GradientBoostingRegressor(random_state=42)),\n",
    "            ('XG Boost', XGBRegressor()),\n",
    "            ('KNN', KNeighborsRegressor())\n",
    "        })"
   ]
  },
  {
   "cell_type": "markdown",
   "id": "9bb3852f-edb7-4bad-8dfb-54ccbfc08535",
   "metadata": {},
   "source": [
    "Random Forest has slightly better MSE than XGBoost however the time for execution for XGBoost is very much faster. This is a significant benefit when performing scenario analysis using the model.\n",
    "\n",
    "**We select the XGBoost model**"
   ]
  },
  {
   "cell_type": "markdown",
   "id": "b3d66df8-42da-4d4f-99a4-9077996f9f21",
   "metadata": {},
   "source": [
    "### Optimising XGBoost model\n",
    "\n",
    "We use cross-validation to find the optimal parameters"
   ]
  },
  {
   "cell_type": "markdown",
   "id": "2c5fe948-115f-4a39-a541-f71458e02739",
   "metadata": {},
   "source": [
    "### Cross validation"
   ]
  },
  {
   "cell_type": "code",
   "execution_count": null,
   "id": "3d9ddc75-2f2f-4816-a07b-c1b4b9883acc",
   "metadata": {},
   "outputs": [],
   "source": [
    "from sklearn.base import clone\n",
    "def score_folds(model, df, n_splits, random_state=42):\n",
    "    scores = []\n",
    "    kf = KFold(n_splits=n_splits, random_state=random_state, shuffle=True)\n",
    "    for i, (train_index, test_index) in enumerate(kf.split(df)):\n",
    "        X_train, y_train = split(df.iloc[train_index]) # [columns]\n",
    "        X_test, y_test = split(df.iloc[test_index]) # [columns]\n",
    "        model_internal = clone(model)\n",
    "        model_internal.fit(X_train, y_train)\n",
    "        y_predict = model_internal.predict(X_test)\n",
    "        scores.append(mean_squared_error(y_predict, y_test))\n",
    "    return scores"
   ]
  },
  {
   "cell_type": "code",
   "execution_count": null,
   "id": "961e0128-0988-46de-9d5f-d98382909685",
   "metadata": {},
   "outputs": [],
   "source": [
    "def scorer(params):\n",
    "    model = XGBRegressor(**params)\n",
    "    scores = score_folds(model, df_reduced, 5)\n",
    "    mean = np.mean(scores)\n",
    "    print(params, mean)\n",
    "    return mean\n",
    "\n",
    "param_grid={'learning_rate': [0.05, 0.1, 0.2],\n",
    "            'max_depth':[6, 8, 10]}\n",
    "\n",
    "grid = ParameterGrid(param_grid)\n",
    "it2 = map(lambda p: (p, scorer(p)), grid)\n",
    "best_params, _ = min(it2, key=lambda t: t[1])\n",
    "print(best_params)"
   ]
  },
  {
   "cell_type": "code",
   "execution_count": null,
   "id": "0ad86c92-f876-4fae-b18a-a872ac65c2c5",
   "metadata": {},
   "outputs": [],
   "source": [
    "model = XGBRegressor(**best_params).fit(*split(df_train))"
   ]
  },
  {
   "cell_type": "markdown",
   "id": "0cc6c919-34ed-4d28-8c7e-ad88cf4832eb",
   "metadata": {},
   "source": [
    "## Model results"
   ]
  },
  {
   "cell_type": "markdown",
   "id": "7a0ec5c5-bdcf-4761-bf45-639475dc553c",
   "metadata": {},
   "source": [
    "### Plots"
   ]
  },
  {
   "cell_type": "code",
   "execution_count": null,
   "id": "eecbbafa-3b98-4281-8f51-0d3484d0854b",
   "metadata": {},
   "outputs": [],
   "source": [
    "def plot_results(df):\n",
    "    (X, y) = split(df)\n",
    "    y_predict = model.predict(X)\n",
    "    plt.scatter(y_predict, y)\n",
    "    plt.xlabel(\"Predicted\")\n",
    "    plt.ylabel(\"Actual\")\n",
    "    plt.show()"
   ]
  },
  {
   "cell_type": "code",
   "execution_count": null,
   "id": "db891c09-9cea-4082-8ad2-b2d69d490074",
   "metadata": {},
   "outputs": [],
   "source": [
    "plot_results(df_test)"
   ]
  },
  {
   "cell_type": "code",
   "execution_count": null,
   "id": "9d590792-06ba-4afe-829b-12cbba6d4123",
   "metadata": {},
   "outputs": [],
   "source": [
    "plot_results(df_test[df_test['Developed']==1])"
   ]
  },
  {
   "cell_type": "code",
   "execution_count": null,
   "id": "46da68fc-b17a-4825-ab93-a48302b0fa0c",
   "metadata": {},
   "outputs": [],
   "source": [
    "plot_results(df_test[df_test['Developed']==0])"
   ]
  },
  {
   "cell_type": "code",
   "execution_count": null,
   "id": "27b204e4-5f71-4e74-bb47-97390975ca97",
   "metadata": {},
   "outputs": [],
   "source": [
    "plot_results(df_test[df_test['Region']=='Africa'])"
   ]
  },
  {
   "cell_type": "markdown",
   "id": "c32fa9af-b95c-4759-a974-b140e07f127f",
   "metadata": {},
   "source": [
    "### Permutation importance"
   ]
  },
  {
   "cell_type": "code",
   "execution_count": null,
   "id": "c6c8c1bf-15f1-4137-88cd-07e3804a798e",
   "metadata": {},
   "outputs": [],
   "source": [
    "def perm_importance(df):\n",
    "    (X, y) = split(df)\n",
    "    result = permutation_importance(model, X, y, n_repeats=100, random_state=42, n_jobs=2)\n",
    "    idx = result.importances_mean.argsort()\n",
    "    return pd.DataFrame(result.importances[idx].T, columns=X.columns[idx])"
   ]
  },
  {
   "cell_type": "code",
   "execution_count": null,
   "id": "61a3b7a4-e76f-4eaf-be12-790449dbb8a9",
   "metadata": {},
   "outputs": [],
   "source": [
    "importance_train = perm_importance(df_train)\n",
    "importance_test = perm_importance(df_test)"
   ]
  },
  {
   "cell_type": "code",
   "execution_count": null,
   "id": "0c71538a-3f41-45e5-bd63-576ff805127d",
   "metadata": {},
   "outputs": [],
   "source": [
    "ax = importance_train.plot.box(vert=False, whis=10)\n",
    "ax.set_title(\"Permutation Importances (Training Set)\")\n",
    "ax.axvline(x=0, color=\"k\", linestyle=\"--\")\n",
    "ax.set_xlabel(\"Decrease in accuracy score\")\n",
    "ax.figure.tight_layout()\n",
    "plt.show()"
   ]
  },
  {
   "cell_type": "code",
   "execution_count": null,
   "id": "fe921a26-c68a-4dc3-889b-6ad97ad8e5dd",
   "metadata": {},
   "outputs": [],
   "source": [
    "ax = importance_test.plot.box(vert=False, whis=10)\n",
    "ax.set_title(\"Permutation Importances (Test Set)\")\n",
    "ax.axvline(x=0, color=\"k\", linestyle=\"--\")\n",
    "ax.set_xlabel(\"Decrease in accuracy score\")\n",
    "ax.figure.tight_layout()\n",
    "plt.show()"
   ]
  },
  {
   "cell_type": "code",
   "execution_count": null,
   "id": "7c2d98ea-e1bc-4b91-9f6b-28cc6463aa71",
   "metadata": {},
   "outputs": [],
   "source": [
    "def plot_h(train, test):\n",
    "    ax = plt.subplot(111)\n",
    "    ind = np.arange(len(train.index))\n",
    "    height=0.3\n",
    "    ax.barh(ind+height/2, train, height, label='Train')\n",
    "    ax.barh(ind-height/2, test, height, label='Test')\n",
    "    ax.set(yticks=ind, yticklabels=train.index, ylim=[-2*height, len(ind)-height])\n",
    "    ax.set_xlabel(\"Decrease in accuracy score\")\n",
    "    ax.figure.tight_layout()\n",
    "    plt.legend(loc='lower right')\n",
    "    plt.show()\n",
    "\n",
    "plot_h(importance_train.mean(axis=0), importance_test.mean(axis=0))"
   ]
  },
  {
   "cell_type": "code",
   "execution_count": null,
   "id": "8ed6a536-b0df-41fe-a344-7a773546609b",
   "metadata": {},
   "outputs": [],
   "source": [
    "def plot_importance(df):\n",
    "    importance_test = perm_importance(df)\n",
    "    mean = importance_test.mean(axis=0)\n",
    "    mean.plot.barh(stacked=True)\n",
    "    plt.show()"
   ]
  },
  {
   "cell_type": "code",
   "execution_count": null,
   "id": "fbad2adc-5fc0-4a46-90a0-c4e8ec89a1cb",
   "metadata": {},
   "outputs": [],
   "source": [
    "plot_importance(df_test[df_test['Developed']==1])"
   ]
  },
  {
   "cell_type": "code",
   "execution_count": null,
   "id": "bb847ba4-75ed-4554-bf4f-f3878f089d2c",
   "metadata": {},
   "outputs": [],
   "source": [
    "plot_importance(df_test[df_test['Developed']==0])"
   ]
  },
  {
   "cell_type": "code",
   "execution_count": null,
   "id": "8aa41694-a0d6-42ff-bb2c-69703fe6c6c1",
   "metadata": {},
   "outputs": [],
   "source": [
    "plot_importance(df_test[df_test['Region']=='Africa'])"
   ]
  },
  {
   "cell_type": "markdown",
   "id": "7213c404-97f2-4b76-a775-6be249dd27cd",
   "metadata": {},
   "source": [
    "### Partial dependence"
   ]
  },
  {
   "cell_type": "code",
   "execution_count": null,
   "id": "bf29c7dc-35e0-42a0-9a6f-c1316536beea",
   "metadata": {},
   "outputs": [],
   "source": [
    "def partial_dep(df, feature):\n",
    "    X, _ = split(df)\n",
    "    PartialDependenceDisplay.from_estimator(model, X, [feature], kind='both')\n",
    "    plt.show()"
   ]
  },
  {
   "cell_type": "code",
   "execution_count": null,
   "id": "1abda905-6320-4362-825b-3281fc282dbe",
   "metadata": {},
   "outputs": [],
   "source": [
    "partial_dep(df_test, 'Adult_mortality')"
   ]
  },
  {
   "cell_type": "code",
   "execution_count": null,
   "id": "780f15a4-6ea6-4c8a-ab3e-de4e3b528afa",
   "metadata": {},
   "outputs": [],
   "source": [
    "partial_dep(df_test, 'GDP_per_capita')"
   ]
  },
  {
   "cell_type": "code",
   "execution_count": null,
   "id": "2ef3e7e7-fda8-440b-a2fd-20a40c216ae9",
   "metadata": {},
   "outputs": [],
   "source": [
    "partial_dep(df_test[df_test['Developed']==0], 'Schooling')"
   ]
  },
  {
   "cell_type": "code",
   "execution_count": null,
   "id": "e15fcf40-ccdc-497e-b9bc-931c7ce1e61b",
   "metadata": {},
   "outputs": [],
   "source": [
    "partial_dep(df_test[df_test['Developed']==0], 'Polio')"
   ]
  },
  {
   "cell_type": "code",
   "execution_count": null,
   "id": "23bbc408-546b-445b-bc7c-6c2c7d7af2de",
   "metadata": {},
   "outputs": [],
   "source": []
  }
 ],
 "metadata": {
  "kernelspec": {
   "display_name": "Python 3 (ipykernel)",
   "language": "python",
   "name": "python3"
  },
  "language_info": {
   "codemirror_mode": {
    "name": "ipython",
    "version": 3
   },
   "file_extension": ".py",
   "mimetype": "text/x-python",
   "name": "python",
   "nbconvert_exporter": "python",
   "pygments_lexer": "ipython3",
   "version": "3.11.9"
  }
 },
 "nbformat": 4,
 "nbformat_minor": 5
}
