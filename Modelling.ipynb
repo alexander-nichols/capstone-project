{
 "cells": [
  {
   "cell_type": "code",
   "execution_count": null,
   "id": "391681be-106f-49d2-92f5-ad6c0f1cc4a3",
   "metadata": {},
   "outputs": [],
   "source": [
    "import pandas as pd\n",
    "import numpy as np \n",
    "import matplotlib.pyplot as plt\n",
    "import seaborn as sns\n",
    "\n",
    "from sklearn.preprocessing import StandardScaler\n",
    "from sklearn.inspection import permutation_importance\n",
    "from sklearn.model_selection import cross_val_score, GridSearchCV, train_test_split\n",
    "from sklearn.metrics import make_scorer, mean_squared_error\n",
    "from sklearn.preprocessing import StandardScaler\n",
    "\n",
    "# Models\n",
    "from sklearn.decomposition import PCA\n",
    "from sklearn.ensemble import ExtraTreesRegressor, GradientBoostingRegressor, RandomForestRegressor  \n",
    "from sklearn.linear_model import LinearRegression\n",
    "from sklearn.neighbors import KNeighborsRegressor\n",
    "from sklearn.tree import DecisionTreeRegressor\n",
    "from xgboost import XGBRegressor"
   ]
  },
  {
   "cell_type": "markdown",
   "id": "ef9158d3-a35d-4021-a913-716251c112f4",
   "metadata": {},
   "source": [
    "## Data loading"
   ]
  },
  {
   "cell_type": "code",
   "execution_count": null,
   "id": "c46d49b5-44b3-4ef8-a2aa-f1cad1996d66",
   "metadata": {},
   "outputs": [],
   "source": [
    "df = pd.read_csv('data\\Life-Expectancy-Data-Updated.csv')\n",
    "\n",
    "# Simple renaming to improve readability\n",
    "df=df.rename(columns={'Thinness_ten_nineteen_years':'Thinness (10-19 years)',\\\n",
    "                      'Thinness_five_nine_years':'Thinness (5-9 years)', \\\n",
    "                      'Economy_status_Developed' : 'Developed', \\\n",
    "                      'Economy_status_Developing' : 'Developing'                  \n",
    "                     })\n",
    "df_reduced = df.drop(['Infant_deaths', 'Under_five_deaths', 'Diphtheria', 'Thinness (5-9 years)'], axis=1)"
   ]
  },
  {
   "cell_type": "markdown",
   "id": "f2942af7-4e93-4005-8641-3913a4d5f348",
   "metadata": {},
   "source": [
    "## Modelling"
   ]
  },
  {
   "cell_type": "markdown",
   "id": "dcaa019d-6873-4c64-9297-1ba8ac075870",
   "metadata": {},
   "source": [
    "### PCA Analysis"
   ]
  },
  {
   "cell_type": "code",
   "execution_count": null,
   "id": "fb3714f5-c285-4af4-9c84-5e9aa4ac6444",
   "metadata": {},
   "outputs": [],
   "source": [
    "X = df_reduced.drop(['Life_expectancy', 'Country', 'Region'], axis=1)\n",
    "y = df_reduced['Life_expectancy']"
   ]
  },
  {
   "cell_type": "code",
   "execution_count": null,
   "id": "74e88758-3def-433d-8090-f1e69a41dd23",
   "metadata": {},
   "outputs": [],
   "source": [
    "X_scaled = StandardScaler().fit_transform(X)\n",
    "\n",
    "pca = PCA()\n",
    "_ = pca.fit_transform(X_scaled)\n",
    "\n",
    "plt.plot(np.cumsum(pca.explained_variance_ratio_))\n",
    "plt.xlabel('Components')\n",
    "plt.ylabel('Fraction of Total Variance')\n",
    "plt.show()"
   ]
  },
  {
   "cell_type": "code",
   "execution_count": null,
   "id": "d85205b1-9673-4927-9dce-7e9abd865259",
   "metadata": {},
   "outputs": [],
   "source": [
    "pca_components = pca.fit_transform(X_scaled)\n",
    "plt.figure(figsize=(8,6))\n",
    "sns.scatterplot(x=pca_components[:, 0], y=pca_components[:, 1], hue=df_reduced['Life_expectancy'], palette='viridis', alpha=0.75);\n",
    "plt.xlabel('Component 1')\n",
    "plt.ylabel('Component 2')\n",
    "plt.show()"
   ]
  },
  {
   "cell_type": "code",
   "execution_count": null,
   "id": "dad6f1b2-4986-4ad8-8b46-7b7d374abf21",
   "metadata": {},
   "outputs": [],
   "source": [
    "df_train, df_test = train_test_split(df_reduced, test_size=0.2, random_state=42)\n",
    "\n",
    "X_train = df_train.drop('Life_expectancy', axis=1)\n",
    "y_train = df_train['Life_expectancy']\n",
    "\n",
    "X_test = df_test.drop('Life_expectancy', axis=1)\n",
    "y_test = df_test['Life_expectancy']\n",
    "\n",
    "columns = ['Adult_mortality','Schooling', 'GDP_per_capita', 'Incidents_HIV', 'Developed']\n",
    "X_train_subset = X_train[columns]\n",
    "X_test_subset = X_test[columns]"
   ]
  },
  {
   "cell_type": "code",
   "execution_count": null,
   "id": "205c6ae3-50d5-4963-8350-8e6948409236",
   "metadata": {},
   "outputs": [],
   "source": [
    "def plot_results(model):\n",
    "    model.fit(X_train_subset, y_train)\n",
    "    y_predict = model.predict(X_test_subset)\n",
    "    mse = mean_squared_error(y_predict, y_test)\n",
    "    print(f'The MSE is: {mse:.3f}')\n",
    "    plt.scatter(y_predict, y_test)\n",
    "    plt.xlabel(\"Predicted\")\n",
    "    plt.ylabel(\"Actual\")\n",
    "    plt.show()"
   ]
  },
  {
   "cell_type": "markdown",
   "id": "a813ce0b-37cb-4db8-a609-01f279ae6761",
   "metadata": {},
   "source": [
    "### Linear model"
   ]
  },
  {
   "cell_type": "code",
   "execution_count": null,
   "id": "e33556ee-e2ac-4380-b1e7-91e2569fd0ff",
   "metadata": {},
   "outputs": [],
   "source": [
    "plot_results(LinearRegression())"
   ]
  },
  {
   "cell_type": "markdown",
   "id": "6900e7db-7108-49d3-a326-1e347408cfc7",
   "metadata": {},
   "source": [
    "### Decision Tree"
   ]
  },
  {
   "cell_type": "code",
   "execution_count": null,
   "id": "1698f9c1-ea30-4496-ac31-f515f0c49df9",
   "metadata": {},
   "outputs": [],
   "source": [
    "plot_results(DecisionTreeRegressor(random_state=42))"
   ]
  },
  {
   "cell_type": "markdown",
   "id": "c5a4cc1f-a585-48e9-838a-c2757d92cd7c",
   "metadata": {},
   "source": [
    "### RandomForestRegressor"
   ]
  },
  {
   "cell_type": "code",
   "execution_count": null,
   "id": "1d8fd54e-44e4-4afa-8558-8c4b74b09fe4",
   "metadata": {},
   "outputs": [],
   "source": [
    "plot_results(RandomForestRegressor(random_state=42))"
   ]
  },
  {
   "cell_type": "markdown",
   "id": "49ebdcbc-ecc2-4e2e-9def-61174caed93f",
   "metadata": {},
   "source": [
    "### Gradient Boost"
   ]
  },
  {
   "cell_type": "code",
   "execution_count": null,
   "id": "f709892d-0084-4d49-9baa-fb7fa9a20c5a",
   "metadata": {},
   "outputs": [],
   "source": [
    "plot_results(GradientBoostingRegressor(random_state=0))"
   ]
  },
  {
   "cell_type": "markdown",
   "id": "904e01c3-1a5c-49ba-8af4-d4f72e30dbbc",
   "metadata": {},
   "source": [
    "### XGBoost"
   ]
  },
  {
   "cell_type": "code",
   "execution_count": null,
   "id": "3ec663bb-9091-4360-aa7e-0c6153e453ba",
   "metadata": {},
   "outputs": [],
   "source": [
    "plot_results(XGBRegressor(n_estimators=5_000, learning_rate=0.08, n_jobs=8))"
   ]
  },
  {
   "cell_type": "markdown",
   "id": "69601763-0b07-42fc-844e-7fc598de6698",
   "metadata": {},
   "source": [
    "### Extra Trees"
   ]
  },
  {
   "cell_type": "code",
   "execution_count": null,
   "id": "69241ed8-1b5b-45c5-aa36-597507c8d232",
   "metadata": {},
   "outputs": [],
   "source": [
    "plot_results(ExtraTreesRegressor(n_estimators=1_000))"
   ]
  },
  {
   "cell_type": "markdown",
   "id": "a0d664c9-aa3b-4bfb-aa20-0f484ed902a8",
   "metadata": {},
   "source": [
    "### K-Nearest-Neighbours"
   ]
  },
  {
   "cell_type": "code",
   "execution_count": null,
   "id": "644eca63-c2f0-47cc-b0a0-5b8d6f3adf7f",
   "metadata": {},
   "outputs": [],
   "source": [
    "plot_results(KNeighborsRegressor())"
   ]
  },
  {
   "cell_type": "markdown",
   "id": "90775701-3e55-4f43-a9fd-88260a156606",
   "metadata": {},
   "source": [
    "### Permutation importance"
   ]
  },
  {
   "cell_type": "code",
   "execution_count": null,
   "id": "c6c8c1bf-15f1-4137-88cd-07e3804a798e",
   "metadata": {},
   "outputs": [],
   "source": [
    "model = XGBRegressor()\n",
    "model.fit(X_train_subset, y_train)\n",
    "\n",
    "def perm_importance(model, X, y):\n",
    "    result = permutation_importance(model, X, y, n_repeats=100, random_state=42, n_jobs=2)\n",
    "    idx = result.importances_mean.argsort()\n",
    "    return pd.DataFrame(result.importances[idx].T, columns=X.columns[idx])"
   ]
  },
  {
   "cell_type": "code",
   "execution_count": null,
   "id": "61a3b7a4-e76f-4eaf-be12-790449dbb8a9",
   "metadata": {},
   "outputs": [],
   "source": [
    "importance_train = perm_importance(model, X_train_subset, y_train)\n",
    "ax = importance_train.plot.box(vert=False, whis=10)\n",
    "ax.set_title(\"Permutation Importances (Training Set)\")\n",
    "ax.axvline(x=0, color=\"k\", linestyle=\"--\")\n",
    "ax.set_xlabel(\"Decrease in accuracy score\")\n",
    "ax.figure.tight_layout()\n",
    "plt.show()"
   ]
  },
  {
   "cell_type": "code",
   "execution_count": null,
   "id": "fe921a26-c68a-4dc3-889b-6ad97ad8e5dd",
   "metadata": {},
   "outputs": [],
   "source": [
    "importance_test = perm_importance(model, X_test_subset, y_test)\n",
    "ax = importance_test.plot.box(vert=False, whis=10)\n",
    "ax.set_title(\"Permutation Importances (Test Set)\")\n",
    "ax.axvline(x=0, color=\"k\", linestyle=\"--\")\n",
    "ax.set_xlabel(\"Decrease in accuracy score\")\n",
    "ax.figure.tight_layout()\n",
    "plt.show()"
   ]
  },
  {
   "cell_type": "code",
   "execution_count": null,
   "id": "7c2d98ea-e1bc-4b91-9f6b-28cc6463aa71",
   "metadata": {},
   "outputs": [],
   "source": [
    "def plot_h(train, test):\n",
    "    ax = plt.subplot(111)\n",
    "    ind = np.arange(len(train.index))\n",
    "    height=0.3\n",
    "    ax.barh(ind+height/2, train, height, label='Train')\n",
    "    ax.barh(ind-height/2, test, height, label='Test')\n",
    "    ax.set(yticks=ind, yticklabels=train.index, ylim=[-2*height, len(ind)-height])\n",
    "    ax.set_xlabel(\"Decrease in accuracy score\")\n",
    "    ax.figure.tight_layout()\n",
    "    plt.legend(loc='lower right')\n",
    "    plt.show()\n",
    "\n",
    "plot_h(importance_train.mean(axis=0), importance_test.mean(axis=0))"
   ]
  },
  {
   "cell_type": "code",
   "execution_count": null,
   "id": "47015af6-af8d-4b79-bb07-e776d0ed0294",
   "metadata": {},
   "outputs": [],
   "source": []
  }
 ],
 "metadata": {
  "kernelspec": {
   "display_name": "Python 3 (ipykernel)",
   "language": "python",
   "name": "python3"
  },
  "language_info": {
   "codemirror_mode": {
    "name": "ipython",
    "version": 3
   },
   "file_extension": ".py",
   "mimetype": "text/x-python",
   "name": "python",
   "nbconvert_exporter": "python",
   "pygments_lexer": "ipython3",
   "version": "3.11.9"
  }
 },
 "nbformat": 4,
 "nbformat_minor": 5
}
