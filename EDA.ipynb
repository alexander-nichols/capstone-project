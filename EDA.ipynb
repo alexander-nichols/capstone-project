{
 "cells": [
  {
   "cell_type": "code",
   "execution_count": null,
   "id": "391681be-106f-49d2-92f5-ad6c0f1cc4a3",
   "metadata": {},
   "outputs": [],
   "source": [
    "import pandas as pd\n",
    "import numpy as np \n",
    "import matplotlib.pyplot as plt\n",
    "import seaborn as sns\n",
    "from sklearn.preprocessing import StandardScaler"
   ]
  },
  {
   "cell_type": "markdown",
   "id": "ef9158d3-a35d-4021-a913-716251c112f4",
   "metadata": {},
   "source": [
    "## Data loading and sanity checks"
   ]
  },
  {
   "cell_type": "code",
   "execution_count": null,
   "id": "c46d49b5-44b3-4ef8-a2aa-f1cad1996d66",
   "metadata": {},
   "outputs": [],
   "source": [
    "df = pd.read_csv('data\\Life-Expectancy-Data-Updated.csv')\n",
    "\n",
    "# Simple renaming to improve readability\n",
    "df=df.rename(columns={'Thinness_ten_nineteen_years':'Thinness (10-19 years)',\\\n",
    "                      'Thinness_five_nine_years':'Thinness (5-9 years)', \\\n",
    "                      'Economy_status_Developed' : 'Developed', \\\n",
    "                      'Economy_status_Developing' : 'Developing'                  \n",
    "                     })"
   ]
  },
  {
   "cell_type": "code",
   "execution_count": null,
   "id": "1ebfc793-0c42-469f-a36d-ce740a2447ac",
   "metadata": {},
   "outputs": [],
   "source": [
    "df.columns"
   ]
  },
  {
   "cell_type": "code",
   "execution_count": null,
   "id": "9258bbcd-0eb5-48b6-b978-c7bb0bae4a63",
   "metadata": {},
   "outputs": [],
   "source": [
    "df.head()"
   ]
  },
  {
   "cell_type": "code",
   "execution_count": null,
   "id": "e1be9d10-3c71-40fc-af48-fcb59675b0b9",
   "metadata": {},
   "outputs": [],
   "source": [
    "df.info()"
   ]
  },
  {
   "cell_type": "code",
   "execution_count": null,
   "id": "964c9938-bcf1-4b62-a80a-043eea9762ca",
   "metadata": {},
   "outputs": [],
   "source": [
    "df.describe()"
   ]
  },
  {
   "cell_type": "code",
   "execution_count": null,
   "id": "e7aa58fa-365d-481d-b050-67b1898972a3",
   "metadata": {},
   "outputs": [],
   "source": [
    "df.isnull().sum()"
   ]
  },
  {
   "cell_type": "markdown",
   "id": "bb0d50bc-9fe9-4648-9916-57774f813425",
   "metadata": {},
   "source": [
    "**Confirm that Developed and Developing are complements of each other**"
   ]
  },
  {
   "cell_type": "code",
   "execution_count": null,
   "id": "f0097c80-94f1-4aa5-bc51-35e9c1cef39a",
   "metadata": {},
   "outputs": [],
   "source": [
    "(df['Developed']+df['Developing']==1).sum()==df.shape[0]"
   ]
  },
  {
   "cell_type": "code",
   "execution_count": null,
   "id": "750a2a0a-5189-4fef-ae24-1f98320e6700",
   "metadata": {},
   "outputs": [],
   "source": [
    "df=df.drop('Developing', axis=1)"
   ]
  },
  {
   "cell_type": "code",
   "execution_count": null,
   "id": "df9ae320-7a89-477b-8b74-4f278613dd7e",
   "metadata": {},
   "outputs": [],
   "source": [
    "df_developed = df[df['Developed']==1]\n",
    "df_developed = df_developed.drop('Developed', axis=1)\n",
    "\n",
    "df_developing = df[df['Developed']==0]\n",
    "df_developing = df_developing.drop('Developed', axis=1)\n",
    "\n",
    "df_developed.head()"
   ]
  },
  {
   "cell_type": "markdown",
   "id": "00b8b1e4-2d56-4d51-9aab-541b6647cac8",
   "metadata": {},
   "source": [
    "**Confirm that all countries have entries for every year**"
   ]
  },
  {
   "cell_type": "code",
   "execution_count": null,
   "id": "71adaaed-0477-402c-8bff-780508f062ec",
   "metadata": {},
   "outputs": [],
   "source": [
    "np.sort(df['Year'].unique())"
   ]
  },
  {
   "cell_type": "code",
   "execution_count": null,
   "id": "2ac0472e-90d4-4b43-b430-31f61d7643e6",
   "metadata": {},
   "outputs": [],
   "source": [
    "df_subset = df[['Year', 'Country']]\n",
    "grouped=df_subset.groupby(['Country']).count()\n",
    "# grouped.pivot(index='Country', columns='Year')\n",
    "grouped[grouped['Year']!=16].shape[0]==0"
   ]
  },
  {
   "cell_type": "markdown",
   "id": "db18b3b9-4f20-42fe-88cd-c6ea5d7dcbfa",
   "metadata": {},
   "source": [
    "## Trend Analysis"
   ]
  },
  {
   "cell_type": "code",
   "execution_count": null,
   "id": "465d51b6-164c-4b03-af87-2c64c40f9de5",
   "metadata": {},
   "outputs": [],
   "source": [
    "def pivot_table_op(df, groupBy, value, fun):\n",
    "    '''Produces a pivot table of specified value grouped by a column'''  \n",
    "    df_subset = df[['Year', groupBy, value]]\n",
    "    grouped=fun(df_subset.groupby([groupBy, 'Year'])).reset_index()\n",
    "    return grouped.pivot(index='Year', columns=groupBy, values=value)"
   ]
  },
  {
   "cell_type": "markdown",
   "id": "fbb8d490-72ca-426e-b123-1b8f9cb95c05",
   "metadata": {},
   "source": [
    "We see overall all regions have increasing life expectancy with Africa considerably below the rest"
   ]
  },
  {
   "cell_type": "code",
   "execution_count": null,
   "id": "dd6e18c9-0436-4a7f-bd1c-661c35bbb548",
   "metadata": {},
   "outputs": [],
   "source": [
    "pivot = pivot_table_op(df, 'Region', 'Life_expectancy', lambda x: x.mean())\n",
    "plt.figure(figsize=(8,6))\n",
    "for col in pivot.columns:\n",
    "    plt.plot(pivot.index, pivot[col], label=col)\n",
    "\n",
    "plt.xlabel('Year')\n",
    "plt.ylabel('Average Life expectancy')\n",
    "plt.title('Trend in Life expectancy')\n",
    "plt.legend(fontsize='small')\n",
    "plt.show()"
   ]
  },
  {
   "cell_type": "code",
   "execution_count": null,
   "id": "99cbb967-7e75-4048-a842-53bf56f9b3c5",
   "metadata": {},
   "outputs": [],
   "source": [
    "pivot_mean = pivot_table_op(df, 'Developed', 'Life_expectancy', lambda x: x.mean())\n",
    "pivot_std = pivot_table_op(df, 'Developed', 'Life_expectancy', lambda x: x.std())\n",
    "\n",
    "plt.figure(figsize=(8,6))\n",
    "mean_developed = pivot_mean[int(True)]\n",
    "std_developed = pivot_std[int(True)]\n",
    "plt.plot(pivot_mean.index, mean_developed, label='Developed')\n",
    "plt.fill_between(pivot_std.index, mean_developed - std_developed, mean_developed + std_developed, alpha=0.2)\n",
    "\n",
    "mean_developing = pivot_mean[int(False)]\n",
    "std_developing = pivot_std[int(False)]\n",
    "plt.plot(pivot_mean.index, mean_developing, label='Developing')\n",
    "plt.fill_between(pivot_std.index, mean_developing - std_developing, mean_developing + std_developing, alpha=0.2)\n",
    "\n",
    "plt.xlabel('Year')\n",
    "plt.ylabel('Life expectancy')\n",
    "plt.title('Life expectancy')\n",
    "plt.legend(fontsize='small')\n",
    "plt.show()"
   ]
  },
  {
   "cell_type": "code",
   "execution_count": null,
   "id": "dd593e20-cd67-41d0-9f0d-b7ab0d0b11eb",
   "metadata": {},
   "outputs": [],
   "source": [
    "ax = sns.kdeplot(df_developed, x=\"Life_expectancy\", fill=True, legend=True)\n",
    "ax = sns.kdeplot(df_developing, x=\"Life_expectancy\", fill=True, legend=True)\n",
    "# sns.move_legend(ax, \"upper left\")\n",
    "ax.set_title(\"Distribution of Life expectancy: Developing vs Developed\", pad=10)\n",
    "ax.set_xlabel(\"Life expectancy\")     \n",
    "plt.show()"
   ]
  },
  {
   "cell_type": "markdown",
   "id": "2763b129-b71c-4c3e-9386-2d90325322a6",
   "metadata": {},
   "source": [
    "## Outliers"
   ]
  },
  {
   "cell_type": "code",
   "execution_count": null,
   "id": "c59f48b9-9e3f-44fa-a089-11207344d5b2",
   "metadata": {},
   "outputs": [],
   "source": [
    "def find_outliers(pivot, threshold):\n",
    "    output = []\n",
    "    trend = pivot.mean(axis=1)\n",
    "    for col in pivot.columns:\n",
    "        corr = np.corrcoef(pivot[col], trend)\n",
    "        output.append([col, corr[0,1]])\n",
    "    \n",
    "    corr_df = pd.DataFrame(output, columns=['Country' ,'Correlation'])\n",
    "    corr_df.sort_values('Correlation', inplace=True)\n",
    "    return corr_df[corr_df['Correlation']<threshold]\n",
    "\n",
    "def plot_outliers(pivot, outliers):\n",
    "    outliers = pivot[outliers['Country']]\n",
    "    \n",
    "    plt.figure(figsize=(8,6))\n",
    "    for col in outliers.columns:\n",
    "        plt.plot(outliers.index, outliers[col], label=col)\n",
    "    \n",
    "    trend = pivot.mean(axis=1)\n",
    "    plt.plot(trend.index, trend, '--', label='Average Trend')\n",
    "    plt.legend()\n",
    "    plt.show()\n",
    "    "
   ]
  },
  {
   "cell_type": "code",
   "execution_count": null,
   "id": "4841c1e1-8f63-48ec-8fed-e79dd8d64a58",
   "metadata": {},
   "outputs": [],
   "source": [
    "pivot = pivot_table_op(df_developed, 'Country', 'Life_expectancy', lambda x: x.mean())\n",
    "outliers = find_outliers(pivot, threshold=0)\n",
    "outliers"
   ]
  },
  {
   "cell_type": "code",
   "execution_count": null,
   "id": "b5ce0ca0-8b57-48e3-9afd-455562658b42",
   "metadata": {},
   "outputs": [],
   "source": [
    "pivot = pivot_table_op(df_developing, 'Country', 'Life_expectancy', lambda x: x.mean())\n",
    "outliers = find_outliers(pivot, threshold=0.5)\n",
    "plot_outliers(pivot, outliers)"
   ]
  },
  {
   "cell_type": "markdown",
   "id": "bc1b2f76-3daf-4cc1-bccf-5e6179017f90",
   "metadata": {},
   "source": [
    "## Correlation analysis"
   ]
  },
  {
   "cell_type": "code",
   "execution_count": null,
   "id": "5456527f-3523-40f7-aebf-61fc2ece3a44",
   "metadata": {},
   "outputs": [],
   "source": [
    "def remove_small_entries(df, tol=0.5):\n",
    "    def f(x): return 0.0 if(abs(x)<tol) else x\n",
    "    return df.map(f)\n",
    "\n",
    "def corr_heatmap(df, remove_cols):\n",
    "    X = df.drop(remove_cols, axis=1)\n",
    "    X_scaled = StandardScaler().fit_transform(X)\n",
    "    X_scaled=pd.DataFrame(X_scaled, columns=X.columns)\n",
    "    correlation = X_scaled.corr()\n",
    "    # correlation = remove_small_entries(correlation)\n",
    "    fig=plt.figure(figsize=(16,8))\n",
    "    sns.heatmap(correlation, annot=True, linewidths=0.25)\n",
    "\n",
    "corr_heatmap(df, ['Country', 'Region', 'Year'])"
   ]
  },
  {
   "attachments": {},
   "cell_type": "markdown",
   "id": "c22e985d-a2de-4d5b-9280-f33cf5d1637e",
   "metadata": {},
   "source": [
    "We note the following are highly correlated: \n",
    "- Infant_deaths, Under_five_deaths, and Adult_mortality\n",
    "- Diphtheria and Polio\n",
    "- Thinness (5-9 years) and Thinness (10-19 years)\n",
    "\n",
    "We therefore drop: Infant_deaths, Under_five_deaths, Diphtheria, and Thinness (5-9 years)"
   ]
  },
  {
   "cell_type": "code",
   "execution_count": null,
   "id": "18b39088-f132-44f9-84c5-28ad8912018c",
   "metadata": {},
   "outputs": [],
   "source": [
    "df_reduced = df.drop(['Infant_deaths', 'Under_five_deaths', 'Diphtheria', 'Thinness (5-9 years)'], axis=1)"
   ]
  },
  {
   "cell_type": "code",
   "execution_count": null,
   "id": "1163486a-22ec-4b23-8e93-dae002ceb3d9",
   "metadata": {},
   "outputs": [],
   "source": [
    "corr_heatmap(df_reduced, ['Country', 'Region', 'Year'])"
   ]
  },
  {
   "cell_type": "code",
   "execution_count": null,
   "id": "6c86e070-7d0a-405b-a421-8ffaafb64e26",
   "metadata": {},
   "outputs": [],
   "source": [
    "# Developing\n",
    "corr_heatmap(df_reduced[df_reduced['Developed']==0].drop('Developed', axis=1), ['Country', 'Region', 'Year'])"
   ]
  },
  {
   "cell_type": "code",
   "execution_count": null,
   "id": "8e28f892-44eb-4175-9e8f-2da56764a27b",
   "metadata": {},
   "outputs": [],
   "source": [
    "# Developed\n",
    "corr_heatmap(df_reduced[df_reduced['Developed']==1].drop('Developed', axis=1), ['Country', 'Region', 'Year'])"
   ]
  },
  {
   "cell_type": "markdown",
   "id": "11ccde83-ce72-4549-ba39-6a4c102ab999",
   "metadata": {},
   "source": [
    "## More graphs"
   ]
  },
  {
   "cell_type": "code",
   "execution_count": null,
   "id": "96c0b441-3e10-47f6-9028-7ce4160efd38",
   "metadata": {},
   "outputs": [],
   "source": [
    "df_reduced.columns"
   ]
  },
  {
   "cell_type": "code",
   "execution_count": null,
   "id": "e9b7daee-3fda-4b1d-8cd6-bba9e2f3f1d2",
   "metadata": {},
   "outputs": [],
   "source": [
    "fig, ax = plt.subplots(figsize=(12,15), nrows = 4, ncols=3)\n",
    "\n",
    "def my_plot(row, col, col_name):\n",
    "    sns.scatterplot(ax=ax[row, col],\n",
    "                data=df, \n",
    "                x=col_name, \n",
    "                y=\"Life_expectancy\",\n",
    "                hue=\"Developed\",  \n",
    "                palette=['Black','Red'])\n",
    "    ax[row, col].legend([],[], frameon=False)\n",
    "\n",
    "my_plot(0, 0, 'Adult_mortality')\n",
    "my_plot(0, 1, 'Alcohol_consumption')\n",
    "my_plot(0, 2, 'Hepatitis_B')\n",
    "\n",
    "my_plot(1, 0, 'Measles')\n",
    "my_plot(1, 1, 'BMI')\n",
    "my_plot(1, 2, 'Polio')\n",
    "\n",
    "my_plot(2, 0, 'Incidents_HIV')\n",
    "my_plot(2, 1, 'GDP_per_capita')\n",
    "my_plot(2, 2, 'Population_mln')\n",
    "\n",
    "my_plot(3, 0, 'Thinness (10-19 years)')\n",
    "my_plot(3, 1, 'Schooling')\n"
   ]
  }
 ],
 "metadata": {
  "kernelspec": {
   "display_name": "Python 3 (ipykernel)",
   "language": "python",
   "name": "python3"
  },
  "language_info": {
   "codemirror_mode": {
    "name": "ipython",
    "version": 3
   },
   "file_extension": ".py",
   "mimetype": "text/x-python",
   "name": "python",
   "nbconvert_exporter": "python",
   "pygments_lexer": "ipython3",
   "version": "3.11.9"
  }
 },
 "nbformat": 4,
 "nbformat_minor": 5
}
